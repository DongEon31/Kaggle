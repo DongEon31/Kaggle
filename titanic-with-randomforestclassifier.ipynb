{
 "cells": [
  {
   "cell_type": "code",
   "execution_count": 1,
   "id": "15ef490d",
   "metadata": {
    "_cell_guid": "b1076dfc-b9ad-4769-8c92-a6c4dae69d19",
    "_uuid": "8f2839f25d086af736a60e9eeb907d3b93b6e0e5",
    "execution": {
     "iopub.execute_input": "2022-08-07T08:08:39.055462Z",
     "iopub.status.busy": "2022-08-07T08:08:39.054945Z",
     "iopub.status.idle": "2022-08-07T08:08:39.069732Z",
     "shell.execute_reply": "2022-08-07T08:08:39.068153Z"
    },
    "papermill": {
     "duration": 0.024453,
     "end_time": "2022-08-07T08:08:39.072488",
     "exception": false,
     "start_time": "2022-08-07T08:08:39.048035",
     "status": "completed"
    },
    "tags": []
   },
   "outputs": [
    {
     "name": "stdout",
     "output_type": "stream",
     "text": [
      "/kaggle/input/titanic/train.csv\n",
      "/kaggle/input/titanic/test.csv\n",
      "/kaggle/input/titanic/gender_submission.csv\n"
     ]
    }
   ],
   "source": [
    "# This Python 3 environment comes with many helpful analytics libraries installed\n",
    "# It is defined by the kaggle/python Docker image: https://github.com/kaggle/docker-python\n",
    "# For example, here's several helpful packages to load\n",
    "\n",
    "import numpy as np # linear algebra\n",
    "import pandas as pd # data processing, CSV file I/O (e.g. pd.read_csv)\n",
    "\n",
    "# Input data files are available in the read-only \"../input/\" directory\n",
    "# For example, running this (by clicking run or pressing Shift+Enter) will list all files under the input directory\n",
    "\n",
    "import os\n",
    "for dirname, _, filenames in os.walk('/kaggle/input'):\n",
    "    for filename in filenames:\n",
    "        print(os.path.join(dirname, filename))\n",
    "\n",
    "# You can write up to 20GB to the current directory (/kaggle/working/) that gets preserved as output when you create a version using \"Save & Run All\" \n",
    "# You can also write temporary files to /kaggle/temp/, but they won't be saved outside of the current session"
   ]
  },
  {
   "cell_type": "code",
   "execution_count": 2,
   "id": "f786edc7",
   "metadata": {
    "execution": {
     "iopub.execute_input": "2022-08-07T08:08:39.082612Z",
     "iopub.status.busy": "2022-08-07T08:08:39.082191Z",
     "iopub.status.idle": "2022-08-07T08:08:39.134534Z",
     "shell.execute_reply": "2022-08-07T08:08:39.133484Z"
    },
    "papermill": {
     "duration": 0.060205,
     "end_time": "2022-08-07T08:08:39.137382",
     "exception": false,
     "start_time": "2022-08-07T08:08:39.077177",
     "status": "completed"
    },
    "tags": []
   },
   "outputs": [
    {
     "name": "stdout",
     "output_type": "stream",
     "text": [
      "<class 'pandas.core.frame.DataFrame'>\n",
      "RangeIndex: 891 entries, 0 to 890\n",
      "Data columns (total 12 columns):\n",
      " #   Column       Non-Null Count  Dtype  \n",
      "---  ------       --------------  -----  \n",
      " 0   PassengerId  891 non-null    int64  \n",
      " 1   Survived     891 non-null    int64  \n",
      " 2   Pclass       891 non-null    int64  \n",
      " 3   Name         891 non-null    object \n",
      " 4   Sex          891 non-null    object \n",
      " 5   Age          714 non-null    float64\n",
      " 6   SibSp        891 non-null    int64  \n",
      " 7   Parch        891 non-null    int64  \n",
      " 8   Ticket       891 non-null    object \n",
      " 9   Fare         891 non-null    float64\n",
      " 10  Cabin        204 non-null    object \n",
      " 11  Embarked     889 non-null    object \n",
      "dtypes: float64(2), int64(5), object(5)\n",
      "memory usage: 83.7+ KB\n"
     ]
    }
   ],
   "source": [
    "import pandas as pd\n",
    "import warnings\n",
    "\n",
    "%matplotlib inline\n",
    "warnings.filterwarnings('ignore')\n",
    "\n",
    "# data import\n",
    "train = pd.read_csv('/kaggle/input/titanic/train.csv')\n",
    "test = pd.read_csv('/kaggle/input/titanic/test.csv')\n",
    "gender_submission = pd.read_csv('/kaggle/input/titanic/gender_submission.csv')\n",
    "\n",
    "train.info()"
   ]
  },
  {
   "cell_type": "code",
   "execution_count": 3,
   "id": "c7667fad",
   "metadata": {
    "execution": {
     "iopub.execute_input": "2022-08-07T08:08:39.148358Z",
     "iopub.status.busy": "2022-08-07T08:08:39.147380Z",
     "iopub.status.idle": "2022-08-07T08:08:39.156297Z",
     "shell.execute_reply": "2022-08-07T08:08:39.155398Z"
    },
    "papermill": {
     "duration": 0.016244,
     "end_time": "2022-08-07T08:08:39.158489",
     "exception": false,
     "start_time": "2022-08-07T08:08:39.142245",
     "status": "completed"
    },
    "tags": []
   },
   "outputs": [],
   "source": [
    "# Sex : String -> Numerical\n",
    "train['Sex_clean'] = train['Sex'].astype('category').cat.codes\n",
    "test['Sex_clean'] = test['Sex'].astype('category').cat.codes"
   ]
  },
  {
   "cell_type": "code",
   "execution_count": 4,
   "id": "7fe37faf",
   "metadata": {
    "execution": {
     "iopub.execute_input": "2022-08-07T08:08:39.168540Z",
     "iopub.status.busy": "2022-08-07T08:08:39.167670Z",
     "iopub.status.idle": "2022-08-07T08:08:39.177003Z",
     "shell.execute_reply": "2022-08-07T08:08:39.176128Z"
    },
    "papermill": {
     "duration": 0.016249,
     "end_time": "2022-08-07T08:08:39.178911",
     "exception": false,
     "start_time": "2022-08-07T08:08:39.162662",
     "status": "completed"
    },
    "tags": []
   },
   "outputs": [],
   "source": [
    "train['Embarked'].isnull().sum()\n",
    "# 2\n",
    "\n",
    "test['Embarked'].isnull().sum()\n",
    "# 0\n",
    "\n",
    "train['Embarked'].value_counts()\n",
    "# output\n",
    "# S    644\n",
    "# C    168\n",
    "# Q     77\n",
    "\n",
    "# Embarked NULL : 가장 많은 S로 fillna\n",
    "train['Embarked'].fillna('S', inplace=True)\n",
    "\n",
    "# Embarked : String -> Numerical\n",
    "train['Embarked_clean'] = train['Embarked'].astype('category').cat.codes\n",
    "test['Embarked_clean'] = test['Embarked'].astype('category').cat.codes"
   ]
  },
  {
   "cell_type": "code",
   "execution_count": 5,
   "id": "f3e7ac5c",
   "metadata": {
    "execution": {
     "iopub.execute_input": "2022-08-07T08:08:39.191010Z",
     "iopub.status.busy": "2022-08-07T08:08:39.190206Z",
     "iopub.status.idle": "2022-08-07T08:08:39.197286Z",
     "shell.execute_reply": "2022-08-07T08:08:39.196441Z"
    },
    "papermill": {
     "duration": 0.014619,
     "end_time": "2022-08-07T08:08:39.199265",
     "exception": false,
     "start_time": "2022-08-07T08:08:39.184646",
     "status": "completed"
    },
    "tags": []
   },
   "outputs": [],
   "source": [
    "# Family\n",
    "train['Family'] = 1 + train['SibSp'] + train['Parch']\n",
    "test['Family'] = 1 + test['SibSp'] + test['Parch']"
   ]
  },
  {
   "cell_type": "code",
   "execution_count": 6,
   "id": "a6606fab",
   "metadata": {
    "execution": {
     "iopub.execute_input": "2022-08-07T08:08:39.209640Z",
     "iopub.status.busy": "2022-08-07T08:08:39.208848Z",
     "iopub.status.idle": "2022-08-07T08:08:39.214730Z",
     "shell.execute_reply": "2022-08-07T08:08:39.213889Z"
    },
    "papermill": {
     "duration": 0.012773,
     "end_time": "2022-08-07T08:08:39.216593",
     "exception": false,
     "start_time": "2022-08-07T08:08:39.203820",
     "status": "completed"
    },
    "tags": []
   },
   "outputs": [],
   "source": [
    "# Solo\n",
    "train['Solo'] = (train['Family'] == 1)\n",
    "test['Solo'] = (test['Family'] == 1)"
   ]
  },
  {
   "cell_type": "code",
   "execution_count": 7,
   "id": "bde87738",
   "metadata": {
    "execution": {
     "iopub.execute_input": "2022-08-07T08:08:39.227369Z",
     "iopub.status.busy": "2022-08-07T08:08:39.225995Z",
     "iopub.status.idle": "2022-08-07T08:08:39.249750Z",
     "shell.execute_reply": "2022-08-07T08:08:39.248483Z"
    },
    "papermill": {
     "duration": 0.031003,
     "end_time": "2022-08-07T08:08:39.252098",
     "exception": false,
     "start_time": "2022-08-07T08:08:39.221095",
     "status": "completed"
    },
    "tags": []
   },
   "outputs": [
    {
     "data": {
      "text/plain": [
       "(7.854, 10.5]        184\n",
       "(21.679, 39.688]     180\n",
       "(-0.001, 7.854]      179\n",
       "(39.688, 512.329]    176\n",
       "(10.5, 21.679]       172\n",
       "Name: FareBin, dtype: int64"
      ]
     },
     "execution_count": 7,
     "metadata": {},
     "output_type": "execute_result"
    }
   ],
   "source": [
    "# Fare : 다섯 구간으로 균일하게 나눔(pd.qcut())\n",
    "train['FareBin'] = pd.qcut(train['Fare'], 5)\n",
    "test['FareBin'] = pd.qcut(test['Fare'], 5)\n",
    "\n",
    "train['FareBin'].value_counts()\n",
    "# (7.854, 10.5]        184\n",
    "# (21.679, 39.688]     180\n",
    "# (-0.001, 7.854]      179\n",
    "# (39.688, 512.329]    176\n",
    "# (10.5, 21.679]       172\n",
    "# Name: FareBin, dtype: int64"
   ]
  },
  {
   "cell_type": "code",
   "execution_count": 8,
   "id": "cb46b99f",
   "metadata": {
    "execution": {
     "iopub.execute_input": "2022-08-07T08:08:39.262650Z",
     "iopub.status.busy": "2022-08-07T08:08:39.261905Z",
     "iopub.status.idle": "2022-08-07T08:08:39.273059Z",
     "shell.execute_reply": "2022-08-07T08:08:39.272098Z"
    },
    "papermill": {
     "duration": 0.018753,
     "end_time": "2022-08-07T08:08:39.275069",
     "exception": false,
     "start_time": "2022-08-07T08:08:39.256316",
     "status": "completed"
    },
    "tags": []
   },
   "outputs": [
    {
     "data": {
      "text/plain": [
       "1    184\n",
       "3    180\n",
       "0    179\n",
       "4    176\n",
       "2    172\n",
       "Name: Fare_clean, dtype: int64"
      ]
     },
     "execution_count": 8,
     "metadata": {},
     "output_type": "execute_result"
    }
   ],
   "source": [
    "# Fare : Numerical\n",
    "train['Fare_clean'] = train['FareBin'].astype('category').cat.codes\n",
    "test['Fare_clean'] = test['FareBin'].astype('category').cat.codes\n",
    "\n",
    "train['Fare_clean'].value_counts()\n",
    "# 1    184\n",
    "# 3    180\n",
    "# 0    179\n",
    "# 4    176\n",
    "# 2    172\n",
    "# Name: Fare_clean, dtype: int64"
   ]
  },
  {
   "cell_type": "code",
   "execution_count": 9,
   "id": "5c99e385",
   "metadata": {
    "execution": {
     "iopub.execute_input": "2022-08-07T08:08:39.286018Z",
     "iopub.status.busy": "2022-08-07T08:08:39.285742Z",
     "iopub.status.idle": "2022-08-07T08:08:39.301047Z",
     "shell.execute_reply": "2022-08-07T08:08:39.299951Z"
    },
    "papermill": {
     "duration": 0.023366,
     "end_time": "2022-08-07T08:08:39.303297",
     "exception": false,
     "start_time": "2022-08-07T08:08:39.279931",
     "status": "completed"
    },
    "tags": []
   },
   "outputs": [
    {
     "data": {
      "text/plain": [
       "Mr        517\n",
       "Miss      182\n",
       "Mrs       125\n",
       "Master     40\n",
       "Other      23\n",
       "Mlle        2\n",
       "Mme         1\n",
       "Ms          1\n",
       "Name: Title, dtype: int64"
      ]
     },
     "execution_count": 9,
     "metadata": {},
     "output_type": "execute_result"
    }
   ],
   "source": [
    "# Name : 성으로 분류\n",
    "train['Title'] = train['Name'].str.extract(' ([A-Za-z]+)\\.', expand=False)\n",
    "test['Title'] = test['Name'].str.extract(' ([A-Za-z]+)\\.', expand=False)\n",
    "\n",
    "train['Title'] = train['Title'].replace(['Lady', 'Countess','Capt', 'Col','Don', 'Dr', 'Major', 'Rev', 'Sir', 'Jonkheer', 'Dona'], 'Other')\n",
    "\n",
    "train['Title'].value_counts()\n",
    "# Mr        517\n",
    "# Miss      182\n",
    "# Mrs       125\n",
    "# Master     40\n",
    "# Other      23\n",
    "# Mlle        2\n",
    "# Ms          1\n",
    "# Mme         1\n",
    "# Name: Title, dtype: int64"
   ]
  },
  {
   "cell_type": "code",
   "execution_count": 10,
   "id": "54b461a9",
   "metadata": {
    "execution": {
     "iopub.execute_input": "2022-08-07T08:08:39.314308Z",
     "iopub.status.busy": "2022-08-07T08:08:39.313443Z",
     "iopub.status.idle": "2022-08-07T08:08:39.323625Z",
     "shell.execute_reply": "2022-08-07T08:08:39.322580Z"
    },
    "papermill": {
     "duration": 0.018016,
     "end_time": "2022-08-07T08:08:39.325937",
     "exception": false,
     "start_time": "2022-08-07T08:08:39.307921",
     "status": "completed"
    },
    "tags": []
   },
   "outputs": [
    {
     "data": {
      "text/plain": [
       "Mr        517\n",
       "Miss      185\n",
       "Mrs       126\n",
       "Master     40\n",
       "Other      23\n",
       "Name: Title, dtype: int64"
      ]
     },
     "execution_count": 10,
     "metadata": {},
     "output_type": "execute_result"
    }
   ],
   "source": [
    "# Mlle, Mme, Ms같이 적은 성은 다른 카테고리에 포함\n",
    "train['Title'] = train['Title'].replace('Mlle', 'Miss')\n",
    "train['Title'] = train['Title'].replace('Ms', 'Miss')\n",
    "train['Title'] = train['Title'].replace('Mme', 'Mrs')\n",
    "\n",
    "train['Title'].value_counts()\n",
    "# Mr        517\n",
    "# Miss      185\n",
    "# Mrs       126\n",
    "# Master     40\n",
    "# Other      23\n",
    "# Name: Title, dtype: int64"
   ]
  },
  {
   "cell_type": "code",
   "execution_count": 11,
   "id": "f473180d",
   "metadata": {
    "execution": {
     "iopub.execute_input": "2022-08-07T08:08:39.337373Z",
     "iopub.status.busy": "2022-08-07T08:08:39.336636Z",
     "iopub.status.idle": "2022-08-07T08:08:39.347751Z",
     "shell.execute_reply": "2022-08-07T08:08:39.346822Z"
    },
    "papermill": {
     "duration": 0.020198,
     "end_time": "2022-08-07T08:08:39.351000",
     "exception": false,
     "start_time": "2022-08-07T08:08:39.330802",
     "status": "completed"
    },
    "tags": []
   },
   "outputs": [
    {
     "data": {
      "text/plain": [
       "Mr        240\n",
       "Miss       79\n",
       "Mrs        72\n",
       "Master     21\n",
       "Other       6\n",
       "Name: Title, dtype: int64"
      ]
     },
     "execution_count": 11,
     "metadata": {},
     "output_type": "execute_result"
    }
   ],
   "source": [
    "test['Title'] = test['Title'].replace(['Lady', 'Countess','Capt', 'Col','Don', 'Dr', 'Major', 'Rev', 'Sir', 'Jonkheer', 'Dona'], 'Other')\n",
    "\n",
    "test['Title'] = test['Title'].replace('Mlle', 'Miss')\n",
    "test['Title'] = test['Title'].replace('Ms', 'Miss')\n",
    "test['Title'] = test['Title'].replace('Mme', 'Mrs')\n",
    "\n",
    "test['Title'].value_counts()\n",
    "# Mr        240\n",
    "# Miss       79\n",
    "# Mrs        72\n",
    "# Master     21\n",
    "# Other       6\n",
    "# Name: Title, dtype: int64"
   ]
  },
  {
   "cell_type": "code",
   "execution_count": 12,
   "id": "8b09a321",
   "metadata": {
    "execution": {
     "iopub.execute_input": "2022-08-07T08:08:39.361468Z",
     "iopub.status.busy": "2022-08-07T08:08:39.361197Z",
     "iopub.status.idle": "2022-08-07T08:08:39.370688Z",
     "shell.execute_reply": "2022-08-07T08:08:39.369769Z"
    },
    "papermill": {
     "duration": 0.016928,
     "end_time": "2022-08-07T08:08:39.372567",
     "exception": false,
     "start_time": "2022-08-07T08:08:39.355639",
     "status": "completed"
    },
    "tags": []
   },
   "outputs": [
    {
     "data": {
      "text/plain": [
       "0      2\n",
       "1      3\n",
       "2      1\n",
       "3      3\n",
       "4      2\n",
       "      ..\n",
       "886    4\n",
       "887    1\n",
       "888    1\n",
       "889    2\n",
       "890    2\n",
       "Name: Title_clean, Length: 891, dtype: int8"
      ]
     },
     "execution_count": 12,
     "metadata": {},
     "output_type": "execute_result"
    }
   ],
   "source": [
    "# Title : Numerical\n",
    "train['Title_clean'] = train['Title'].astype('category').cat.codes\n",
    "test['Title_clean'] = test['Title'].astype('category').cat.codes\n",
    "train['Title_clean']"
   ]
  },
  {
   "cell_type": "code",
   "execution_count": 13,
   "id": "1ec21238",
   "metadata": {
    "execution": {
     "iopub.execute_input": "2022-08-07T08:08:39.383031Z",
     "iopub.status.busy": "2022-08-07T08:08:39.382779Z",
     "iopub.status.idle": "2022-08-07T08:08:39.392654Z",
     "shell.execute_reply": "2022-08-07T08:08:39.391823Z"
    },
    "papermill": {
     "duration": 0.017736,
     "end_time": "2022-08-07T08:08:39.394908",
     "exception": false,
     "start_time": "2022-08-07T08:08:39.377172",
     "status": "completed"
    },
    "tags": []
   },
   "outputs": [],
   "source": [
    "train['Age'].isnull().sum()\n",
    "# 177\n",
    "\n",
    "test['Age'].isnull().sum()\n",
    "# 86\n",
    "# Age의 NULL : Median값으로 fillna\n",
    "train[\"Age\"].fillna(train.groupby(\"Title\")[\"Age\"].transform(\"median\"), inplace=True)\n",
    "test[\"Age\"].fillna(test.groupby(\"Title\")[\"Age\"].transform(\"median\"), inplace=True)"
   ]
  },
  {
   "cell_type": "code",
   "execution_count": 14,
   "id": "ce579ea2",
   "metadata": {
    "execution": {
     "iopub.execute_input": "2022-08-07T08:08:39.406325Z",
     "iopub.status.busy": "2022-08-07T08:08:39.405767Z",
     "iopub.status.idle": "2022-08-07T08:08:39.434016Z",
     "shell.execute_reply": "2022-08-07T08:08:39.433079Z"
    },
    "papermill": {
     "duration": 0.036632,
     "end_time": "2022-08-07T08:08:39.436431",
     "exception": false,
     "start_time": "2022-08-07T08:08:39.399799",
     "status": "completed"
    },
    "tags": []
   },
   "outputs": [],
   "source": [
    "# Train\n",
    "train.loc[ train['Age'] <= 10, 'Age_clean'] = 0\n",
    "train.loc[(train['Age'] > 10) & (train['Age'] <= 16), 'Age_clean'] = 1\n",
    "train.loc[(train['Age'] > 16) & (train['Age'] <= 20), 'Age_clean'] = 2\n",
    "train.loc[(train['Age'] > 20) & (train['Age'] <= 26), 'Age_clean'] = 3\n",
    "train.loc[(train['Age'] > 26) & (train['Age'] <= 30), 'Age_clean'] = 4\n",
    "train.loc[(train['Age'] > 30) & (train['Age'] <= 36), 'Age_clean'] = 5\n",
    "train.loc[(train['Age'] > 36) & (train['Age'] <= 40), 'Age_clean'] = 6\n",
    "train.loc[(train['Age'] > 40) & (train['Age'] <= 46), 'Age_clean'] = 7\n",
    "train.loc[(train['Age'] > 46) & (train['Age'] <= 50), 'Age_clean'] = 8\n",
    "train.loc[(train['Age'] > 50) & (train['Age'] <= 60), 'Age_clean'] = 9\n",
    "train.loc[ train['Age'] > 60, 'Age_clean'] = 10\n",
    "\n",
    "# Test\n",
    "test.loc[ test['Age'] <= 10, 'Age_clean'] = 0\n",
    "test.loc[(test['Age'] > 10) & (test['Age'] <= 16), 'Age_clean'] = 1\n",
    "test.loc[(test['Age'] > 16) & (test['Age'] <= 20), 'Age_clean'] = 2\n",
    "test.loc[(test['Age'] > 20) & (test['Age'] <= 26), 'Age_clean'] = 3\n",
    "test.loc[(test['Age'] > 26) & (test['Age'] <= 30), 'Age_clean'] = 4\n",
    "test.loc[(test['Age'] > 30) & (test['Age'] <= 36), 'Age_clean'] = 5\n",
    "test.loc[(test['Age'] > 36) & (test['Age'] <= 40), 'Age_clean'] = 6\n",
    "test.loc[(test['Age'] > 40) & (test['Age'] <= 46), 'Age_clean'] = 7\n",
    "test.loc[(test['Age'] > 46) & (test['Age'] <= 50), 'Age_clean'] = 8\n",
    "test.loc[(test['Age'] > 50) & (test['Age'] <= 60), 'Age_clean'] = 9\n",
    "test.loc[ test['Age'] > 60, 'Age_clean'] = 10"
   ]
  },
  {
   "cell_type": "code",
   "execution_count": 15,
   "id": "550e215b",
   "metadata": {
    "execution": {
     "iopub.execute_input": "2022-08-07T08:08:39.447370Z",
     "iopub.status.busy": "2022-08-07T08:08:39.446902Z",
     "iopub.status.idle": "2022-08-07T08:08:39.466966Z",
     "shell.execute_reply": "2022-08-07T08:08:39.465776Z"
    },
    "papermill": {
     "duration": 0.028184,
     "end_time": "2022-08-07T08:08:39.469451",
     "exception": false,
     "start_time": "2022-08-07T08:08:39.441267",
     "status": "completed"
    },
    "tags": []
   },
   "outputs": [
    {
     "data": {
      "text/plain": [
       "5.0    311\n",
       "2.0    107\n",
       "Name: Cabin_clean, dtype: int64"
      ]
     },
     "execution_count": 15,
     "metadata": {},
     "output_type": "execute_result"
    }
   ],
   "source": [
    "train['Cabin'].str[:1].value_counts()\n",
    "\n",
    "# C    59\n",
    "# B    47\n",
    "# D    33\n",
    "# E    32\n",
    "# A    15\n",
    "# F    13\n",
    "# G     4\n",
    "# T     1\n",
    "# Name: Cabin, dtype: int64\n",
    "\n",
    "mapping = {\n",
    "    'A': 0,\n",
    "    'B': 1,\n",
    "    'C': 2,\n",
    "    'D': 3,\n",
    "    'E': 4,\n",
    "    'F': 5,\n",
    "    'G': 6,\n",
    "    'T': 7\n",
    "}\n",
    "\n",
    "train['Cabin_clean'] = train['Cabin'].str[:1]\n",
    "train['Cabin_clean'] = train['Cabin_clean'].map(mapping)\n",
    "train['Cabin_clean'] = train.groupby('Pclass')['Cabin_clean'].transform('median')\n",
    "\n",
    "test['Cabin_clean'] = test['Cabin'].str[:1]\n",
    "test['Cabin_clean'] = test['Cabin_clean'].map(mapping)\n",
    "test['Cabin_clean'] = test.groupby('Pclass')['Cabin_clean'].transform('median')\n",
    "\n",
    "train['Cabin_clean'].value_counts()\n",
    "# 5.0    491\n",
    "# 2.0    216\n",
    "# 4.5    184\n",
    "# Name: Cabin_clean, dtype: int64\n",
    "\n",
    "test['Cabin_clean'].value_counts()\n",
    "# 5.0    311\n",
    "# 2.0    107\n",
    "# Name: Cabin_clean, dtype: int64"
   ]
  },
  {
   "cell_type": "code",
   "execution_count": 16,
   "id": "98c3ea98",
   "metadata": {
    "execution": {
     "iopub.execute_input": "2022-08-07T08:08:39.481369Z",
     "iopub.status.busy": "2022-08-07T08:08:39.481084Z",
     "iopub.status.idle": "2022-08-07T08:08:39.485676Z",
     "shell.execute_reply": "2022-08-07T08:08:39.484703Z"
    },
    "papermill": {
     "duration": 0.012824,
     "end_time": "2022-08-07T08:08:39.487739",
     "exception": false,
     "start_time": "2022-08-07T08:08:39.474915",
     "status": "completed"
    },
    "tags": []
   },
   "outputs": [],
   "source": [
    "# feature, label 정의\n",
    "feature = [\n",
    "    'Pclass',\n",
    "    'SibSp',\n",
    "    'Parch',\n",
    "    'Sex_clean',\n",
    "    'Embarked_clean',\n",
    "    'Family',\n",
    "    'Solo',\n",
    "    'Title_clean',\n",
    "    'Age_clean',\n",
    "    'Cabin_clean',\n",
    "    'Fare_clean',\n",
    "]\n",
    "\n",
    "label = [\n",
    "    'Survived',\n",
    "]"
   ]
  },
  {
   "cell_type": "code",
   "execution_count": 17,
   "id": "fe37e8fe",
   "metadata": {
    "execution": {
     "iopub.execute_input": "2022-08-07T08:08:39.499850Z",
     "iopub.status.busy": "2022-08-07T08:08:39.499048Z",
     "iopub.status.idle": "2022-08-07T08:08:41.415197Z",
     "shell.execute_reply": "2022-08-07T08:08:41.414204Z"
    },
    "papermill": {
     "duration": 1.924822,
     "end_time": "2022-08-07T08:08:41.417811",
     "exception": false,
     "start_time": "2022-08-07T08:08:39.492989",
     "status": "completed"
    },
    "tags": []
   },
   "outputs": [
    {
     "data": {
      "text/plain": [
       "0.8271660424469414"
      ]
     },
     "execution_count": 17,
     "metadata": {},
     "output_type": "execute_result"
    }
   ],
   "source": [
    "# RandomForestClassifier \n",
    "from sklearn.model_selection import KFold, cross_val_score\n",
    "from sklearn.ensemble import RandomForestClassifier\n",
    "\n",
    "data = train[feature]\n",
    "target = train[label]\n",
    "\n",
    "k_fold = KFold(n_splits=10, shuffle=True, random_state=0)\n",
    "\n",
    "clf = RandomForestClassifier(n_estimators=50, max_depth=6, random_state=0)\n",
    "cross_val_score(clf, data, target, cv=k_fold, scoring='accuracy', ).mean()\n",
    "# Accuracy\n",
    "# 0.8271660424469414"
   ]
  },
  {
   "cell_type": "code",
   "execution_count": 18,
   "id": "12e8ffbc",
   "metadata": {
    "execution": {
     "iopub.execute_input": "2022-08-07T08:08:41.431211Z",
     "iopub.status.busy": "2022-08-07T08:08:41.429779Z",
     "iopub.status.idle": "2022-08-07T08:08:41.530836Z",
     "shell.execute_reply": "2022-08-07T08:08:41.529637Z"
    },
    "papermill": {
     "duration": 0.110417,
     "end_time": "2022-08-07T08:08:41.533460",
     "exception": false,
     "start_time": "2022-08-07T08:08:41.423043",
     "status": "completed"
    },
    "tags": []
   },
   "outputs": [],
   "source": [
    "x_train = train[feature]\n",
    "x_test = test[feature]\n",
    "y_train = train[label]\n",
    "\n",
    "clf = RandomForestClassifier(n_estimators=50, max_depth=6, random_state=0)\n",
    "clf.fit(x_train, y_train)\n",
    "gender_submission['Survived'] = clf.predict(x_test)\n",
    "gender_submission.to_csv('titanic-submission.csv',index=False)"
   ]
  }
 ],
 "metadata": {
  "kernelspec": {
   "display_name": "Python 3",
   "language": "python",
   "name": "python3"
  },
  "language_info": {
   "codemirror_mode": {
    "name": "ipython",
    "version": 3
   },
   "file_extension": ".py",
   "mimetype": "text/x-python",
   "name": "python",
   "nbconvert_exporter": "python",
   "pygments_lexer": "ipython3",
   "version": "3.7.12"
  },
  "papermill": {
   "default_parameters": {},
   "duration": 10.620201,
   "end_time": "2022-08-07T08:08:42.158392",
   "environment_variables": {},
   "exception": null,
   "input_path": "__notebook__.ipynb",
   "output_path": "__notebook__.ipynb",
   "parameters": {},
   "start_time": "2022-08-07T08:08:31.538191",
   "version": "2.3.4"
  }
 },
 "nbformat": 4,
 "nbformat_minor": 5
}
